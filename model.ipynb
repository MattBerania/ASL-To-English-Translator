{
 "cells": [
  {
   "cell_type": "code",
   "execution_count": 82,
   "id": "20c1ad61-ff45-466e-9f48-757cf85bc42a",
   "metadata": {},
   "outputs": [],
   "source": [
    "from tensorflow.keras.preprocessing.image import ImageDataGenerator\n",
    "from tensorflow.keras.preprocessing import image\n",
    "from tensorflow.keras.optimizers import RMSprop\n",
    "import tensorflow as tf\n",
    "import mediapipe as mp\n",
    "from mediapipe.tasks import python\n",
    "from mediapipe.tasks.python import vision\n",
    "import matplotlib.pyplot as plt\n",
    "import cv2\n",
    "import os\n",
    "os.environ['TF_CPP_MIN_LOG_LEVEL'] = '2'\n",
    "import numpy as np"
   ]
  },
  {
   "cell_type": "code",
   "execution_count": 84,
   "id": "d1d88e53-394d-495b-8917-f1930819dc20",
   "metadata": {},
   "outputs": [],
   "source": [
    "model = '~/hand_landmarker.task'"
   ]
  },
  {
   "cell_type": "code",
   "execution_count": 74,
   "id": "cb74afe3-0be6-4d8e-add6-5912c1f26ccf",
   "metadata": {},
   "outputs": [],
   "source": [
    "train = ImageDataGenerator(rescale= 1/255)\n",
    "validation = ImageDataGenerator(rescale= 1/255)"
   ]
  },
  {
   "cell_type": "code",
   "execution_count": 75,
   "id": "03682bb7-e684-4b27-8031-f3714d5a98f1",
   "metadata": {},
   "outputs": [
    {
     "name": "stdout",
     "output_type": "stream",
     "text": [
      "Found 87000 images belonging to 29 classes.\n",
      "Found 2899 images belonging to 29 classes.\n"
     ]
    }
   ],
   "source": [
    "train_dataset = train.flow_from_directory('training/asl_alphabet_train', target_size = (200,200), batch_size = 32, class_mode = 'binary')\n",
    "\n",
    "validation_dataset = validation.flow_from_directory('validation/asl_alphabet_validation', target_size=(200, 200), batch_size=32, class_mode='binary')"
   ]
  },
  {
   "cell_type": "markdown",
   "id": "dd2e62d2-292b-4c28-8a26-097881c04eb1",
   "metadata": {},
   "source": [
    "train_dataset = train.flow_from_directory('training/asl_alphabet_train',\n",
    "                                         target_size = (200,200),\n",
    "                                         batch_size = 3,\n",
    "                                         class_mode = 'binary')\n",
    "\n",
    "validation_dataset = validation.flow_from_directory(\n",
    "\n",
    "    'validation/asl_alphabet_validation',\n",
    "    target_size=(150, 150),\n",
    "    batch_size=32,\n",
    "    class_mode='binary'\n",
    ")"
   ]
  },
  {
   "cell_type": "code",
   "execution_count": 78,
   "id": "c2f18f98-03d6-4a91-8b44-7d80229a8ee1",
   "metadata": {},
   "outputs": [],
   "source": [
    "#train_dataset.class_indices"
   ]
  },
  {
   "cell_type": "code",
   "execution_count": 79,
   "id": "0c217bde-c795-4e2d-9959-0f221f89eb4f",
   "metadata": {},
   "outputs": [],
   "source": [
    "model = tf.keras.models.Sequential([ tf.keras.layers.Conv2D(16,(3,3),activation = 'relu', input_shape = (200,200,3)),\n",
    "                                    tf.keras.layers.MaxPool2D(2,2),\n",
    "                                    #\n",
    "                                    tf.keras.layers.Conv2D(32,(3,3),activation = 'relu'),\n",
    "                                    tf.keras.layers.MaxPool2D(2,2),\n",
    "                                    #\n",
    "                                    tf.keras.layers.Conv2D(64,(3,3),activation = 'relu'),\n",
    "                                    tf.keras.layers.MaxPool2D(2,2),\n",
    "                                    ##\n",
    "                                    tf.keras.layers.Flatten(),\n",
    "                                    ##\n",
    "                                    tf.keras.layers.Dense(512,activation= 'relu'),\n",
    "                                    ##\n",
    "                                    tf.keras.layers.Dense(1,activation='sigmoid')\n",
    "                                   ])"
   ]
  },
  {
   "cell_type": "code",
   "execution_count": 63,
   "id": "98fcda33-0904-410e-9c32-19b09448b9ce",
   "metadata": {},
   "outputs": [],
   "source": [
    "model.compile(loss= 'binary_crossentropy',\n",
    "              optimizer = RMSprop(learning_rate=0.001),\n",
    "              metrics = ['accuracy'])"
   ]
  },
  {
   "cell_type": "code",
   "execution_count": 80,
   "id": "9e357528-c474-4055-9dc1-a3a6d0af6737",
   "metadata": {},
   "outputs": [],
   "source": [
    "# model.summary()"
   ]
  },
  {
   "cell_type": "code",
   "execution_count": 66,
   "id": "ee1ac3f0-2968-41e1-9aee-17a1b331ac9d",
   "metadata": {},
   "outputs": [
    {
     "name": "stdout",
     "output_type": "stream",
     "text": [
      "Epoch 1/50\n",
      "\u001b[1m3/3\u001b[0m \u001b[32m━━━━━━━━━━━━━━━━━━━━\u001b[0m\u001b[37m\u001b[0m \u001b[1m3s\u001b[0m 1s/step - accuracy: 0.0273 - loss: -134831824.0000 - val_accuracy: 0.0345 - val_loss: -169496720.0000\n",
      "Epoch 2/50\n",
      "\u001b[1m3/3\u001b[0m \u001b[32m━━━━━━━━━━━━━━━━━━━━\u001b[0m\u001b[37m\u001b[0m \u001b[1m2s\u001b[0m 1s/step - accuracy: 0.0273 - loss: -193912896.0000 - val_accuracy: 0.0345 - val_loss: -233333984.0000\n",
      "Epoch 3/50\n",
      "\u001b[1m3/3\u001b[0m \u001b[32m━━━━━━━━━━━━━━━━━━━━\u001b[0m\u001b[37m\u001b[0m \u001b[1m2s\u001b[0m 1s/step - accuracy: 0.0560 - loss: -230182992.0000 - val_accuracy: 0.0345 - val_loss: -302166688.0000\n",
      "Epoch 4/50\n",
      "\u001b[1m3/3\u001b[0m \u001b[32m━━━━━━━━━━━━━━━━━━━━\u001b[0m\u001b[37m\u001b[0m \u001b[1m2s\u001b[0m 1s/step - accuracy: 0.0000e+00 - loss: -342004000.0000 - val_accuracy: 0.0345 - val_loss: -393982592.0000\n",
      "Epoch 5/50\n",
      "\u001b[1m3/3\u001b[0m \u001b[32m━━━━━━━━━━━━━━━━━━━━\u001b[0m\u001b[37m\u001b[0m \u001b[1m2s\u001b[0m 1s/step - accuracy: 0.0651 - loss: -375848320.0000 - val_accuracy: 0.0345 - val_loss: -495534208.0000\n",
      "Epoch 6/50\n",
      "\u001b[1m3/3\u001b[0m \u001b[32m━━━━━━━━━━━━━━━━━━━━\u001b[0m\u001b[37m\u001b[0m \u001b[1m2s\u001b[0m 1s/step - accuracy: 0.0482 - loss: -508347296.0000 - val_accuracy: 0.0345 - val_loss: -622453504.0000\n",
      "Epoch 7/50\n",
      "\u001b[1m3/3\u001b[0m \u001b[32m━━━━━━━━━━━━━━━━━━━━\u001b[0m\u001b[37m\u001b[0m \u001b[1m2s\u001b[0m 1s/step - accuracy: 0.0234 - loss: -651243968.0000 - val_accuracy: 0.0345 - val_loss: -770102016.0000\n",
      "Epoch 8/50\n",
      "\u001b[1m3/3\u001b[0m \u001b[32m━━━━━━━━━━━━━━━━━━━━\u001b[0m\u001b[37m\u001b[0m \u001b[1m5s\u001b[0m 2s/step - accuracy: 0.0091 - loss: -736567680.0000 - val_accuracy: 0.0345 - val_loss: -925354944.0000\n",
      "Epoch 9/50\n",
      "\u001b[1m3/3\u001b[0m \u001b[32m━━━━━━━━━━━━━━━━━━━━\u001b[0m\u001b[37m\u001b[0m \u001b[1m4s\u001b[0m 1s/step - accuracy: 0.0729 - loss: -831887744.0000 - val_accuracy: 0.0345 - val_loss: -1109809152.0000\n",
      "Epoch 10/50\n",
      "\u001b[1m3/3\u001b[0m \u001b[32m━━━━━━━━━━━━━━━━━━━━\u001b[0m\u001b[37m\u001b[0m \u001b[1m3s\u001b[0m 1s/step - accuracy: 0.0352 - loss: -1010755840.0000 - val_accuracy: 0.0345 - val_loss: -1333783552.0000\n",
      "Epoch 11/50\n",
      "\u001b[1m3/3\u001b[0m \u001b[32m━━━━━━━━━━━━━━━━━━━━\u001b[0m\u001b[37m\u001b[0m \u001b[1m3s\u001b[0m 1s/step - accuracy: 0.0260 - loss: -1325679104.0000 - val_accuracy: 0.0345 - val_loss: -1593292800.0000\n",
      "Epoch 12/50\n",
      "\u001b[1m3/3\u001b[0m \u001b[32m━━━━━━━━━━━━━━━━━━━━\u001b[0m\u001b[37m\u001b[0m \u001b[1m3s\u001b[0m 1s/step - accuracy: 0.0703 - loss: -1473123584.0000 - val_accuracy: 0.0345 - val_loss: -1878434944.0000\n",
      "Epoch 13/50\n",
      "\u001b[1m3/3\u001b[0m \u001b[32m━━━━━━━━━━━━━━━━━━━━\u001b[0m\u001b[37m\u001b[0m \u001b[1m3s\u001b[0m 1s/step - accuracy: 0.0560 - loss: -2118369920.0000 - val_accuracy: 0.0345 - val_loss: -2230131456.0000\n",
      "Epoch 14/50\n",
      "\u001b[1m3/3\u001b[0m \u001b[32m━━━━━━━━━━━━━━━━━━━━\u001b[0m\u001b[37m\u001b[0m \u001b[1m2s\u001b[0m 1s/step - accuracy: 0.0091 - loss: -2016159232.0000 - val_accuracy: 0.0345 - val_loss: -2577360896.0000\n",
      "Epoch 15/50\n",
      "\u001b[1m3/3\u001b[0m \u001b[32m━━━━━━━━━━━━━━━━━━━━\u001b[0m\u001b[37m\u001b[0m \u001b[1m2s\u001b[0m 1s/step - accuracy: 0.0365 - loss: -2308061440.0000 - val_accuracy: 0.0345 - val_loss: -2974322176.0000\n",
      "Epoch 16/50\n",
      "\u001b[1m3/3\u001b[0m \u001b[32m━━━━━━━━━━━━━━━━━━━━\u001b[0m\u001b[37m\u001b[0m \u001b[1m2s\u001b[0m 1s/step - accuracy: 0.0599 - loss: -2459517952.0000 - val_accuracy: 0.0345 - val_loss: -3377185792.0000\n",
      "Epoch 17/50\n",
      "\u001b[1m3/3\u001b[0m \u001b[32m━━━━━━━━━━━━━━━━━━━━\u001b[0m\u001b[37m\u001b[0m \u001b[1m3s\u001b[0m 1s/step - accuracy: 0.0898 - loss: -3184469504.0000 - val_accuracy: 0.0345 - val_loss: -3878862080.0000\n",
      "Epoch 18/50\n",
      "\u001b[1m3/3\u001b[0m \u001b[32m━━━━━━━━━━━━━━━━━━━━\u001b[0m\u001b[37m\u001b[0m \u001b[1m3s\u001b[0m 1s/step - accuracy: 0.0339 - loss: -3775430144.0000 - val_accuracy: 0.0345 - val_loss: -4477599744.0000\n",
      "Epoch 19/50\n",
      "\u001b[1m3/3\u001b[0m \u001b[32m━━━━━━━━━━━━━━━━━━━━\u001b[0m\u001b[37m\u001b[0m \u001b[1m2s\u001b[0m 1s/step - accuracy: 0.0378 - loss: -4133180160.0000 - val_accuracy: 0.0345 - val_loss: -5073620480.0000\n",
      "Epoch 20/50\n",
      "\u001b[1m3/3\u001b[0m \u001b[32m━━━━━━━━━━━━━━━━━━━━\u001b[0m\u001b[37m\u001b[0m \u001b[1m2s\u001b[0m 1s/step - accuracy: 0.0234 - loss: -4862746112.0000 - val_accuracy: 0.0345 - val_loss: -5730699264.0000\n",
      "Epoch 21/50\n",
      "\u001b[1m3/3\u001b[0m \u001b[32m━━━━━━━━━━━━━━━━━━━━\u001b[0m\u001b[37m\u001b[0m \u001b[1m2s\u001b[0m 1s/step - accuracy: 0.0182 - loss: -5527688704.0000 - val_accuracy: 0.0345 - val_loss: -6478781952.0000\n",
      "Epoch 22/50\n",
      "\u001b[1m3/3\u001b[0m \u001b[32m━━━━━━━━━━━━━━━━━━━━\u001b[0m\u001b[37m\u001b[0m \u001b[1m2s\u001b[0m 1s/step - accuracy: 0.0052 - loss: -6062121472.0000 - val_accuracy: 0.0345 - val_loss: -7300634624.0000\n",
      "Epoch 23/50\n",
      "\u001b[1m3/3\u001b[0m \u001b[32m━━━━━━━━━━━━━━━━━━━━\u001b[0m\u001b[37m\u001b[0m \u001b[1m3s\u001b[0m 1s/step - accuracy: 0.0417 - loss: -7594599424.0000 - val_accuracy: 0.0345 - val_loss: -8225135616.0000\n",
      "Epoch 24/50\n",
      "\u001b[1m3/3\u001b[0m \u001b[32m━━━━━━━━━━━━━━━━━━━━\u001b[0m\u001b[37m\u001b[0m \u001b[1m3s\u001b[0m 1s/step - accuracy: 0.0260 - loss: -8741948416.0000 - val_accuracy: 0.0345 - val_loss: -9198094336.0000\n",
      "Epoch 25/50\n",
      "\u001b[1m3/3\u001b[0m \u001b[32m━━━━━━━━━━━━━━━━━━━━\u001b[0m\u001b[37m\u001b[0m \u001b[1m2s\u001b[0m 1s/step - accuracy: 0.0143 - loss: -8523130880.0000 - val_accuracy: 0.0345 - val_loss: -10225099776.0000\n",
      "Epoch 26/50\n",
      "\u001b[1m3/3\u001b[0m \u001b[32m━━━━━━━━━━━━━━━━━━━━\u001b[0m\u001b[37m\u001b[0m \u001b[1m2s\u001b[0m 1s/step - accuracy: 0.0273 - loss: -8909404160.0000 - val_accuracy: 0.0345 - val_loss: -11268646912.0000\n",
      "Epoch 27/50\n",
      "\u001b[1m3/3\u001b[0m \u001b[32m━━━━━━━━━━━━━━━━━━━━\u001b[0m\u001b[37m\u001b[0m \u001b[1m2s\u001b[0m 1s/step - accuracy: 0.0195 - loss: -10635274240.0000 - val_accuracy: 0.0345 - val_loss: -12463949824.0000\n",
      "Epoch 28/50\n",
      "\u001b[1m3/3\u001b[0m \u001b[32m━━━━━━━━━━━━━━━━━━━━\u001b[0m\u001b[37m\u001b[0m \u001b[1m2s\u001b[0m 1s/step - accuracy: 0.0091 - loss: -12524904448.0000 - val_accuracy: 0.0345 - val_loss: -13800557568.0000\n",
      "Epoch 29/50\n",
      "\u001b[1m3/3\u001b[0m \u001b[32m━━━━━━━━━━━━━━━━━━━━\u001b[0m\u001b[37m\u001b[0m \u001b[1m3s\u001b[0m 1s/step - accuracy: 0.0482 - loss: -13981650944.0000 - val_accuracy: 0.0345 - val_loss: -15215748096.0000\n",
      "Epoch 30/50\n",
      "\u001b[1m3/3\u001b[0m \u001b[32m━━━━━━━━━━━━━━━━━━━━\u001b[0m\u001b[37m\u001b[0m \u001b[1m2s\u001b[0m 1s/step - accuracy: 0.0104 - loss: -13584331776.0000 - val_accuracy: 0.0345 - val_loss: -16619413504.0000\n",
      "Epoch 31/50\n",
      "\u001b[1m3/3\u001b[0m \u001b[32m━━━━━━━━━━━━━━━━━━━━\u001b[0m\u001b[37m\u001b[0m \u001b[1m2s\u001b[0m 1s/step - accuracy: 0.0143 - loss: -15539571712.0000 - val_accuracy: 0.0345 - val_loss: -18219255808.0000\n",
      "Epoch 32/50\n",
      "\u001b[1m3/3\u001b[0m \u001b[32m━━━━━━━━━━━━━━━━━━━━\u001b[0m\u001b[37m\u001b[0m \u001b[1m2s\u001b[0m 1s/step - accuracy: 0.0651 - loss: -17697863680.0000 - val_accuracy: 0.0345 - val_loss: -20014348288.0000\n",
      "Epoch 33/50\n",
      "\u001b[1m3/3\u001b[0m \u001b[32m━━━━━━━━━━━━━━━━━━━━\u001b[0m\u001b[37m\u001b[0m \u001b[1m3s\u001b[0m 1s/step - accuracy: 0.0091 - loss: -17450743808.0000 - val_accuracy: 0.0345 - val_loss: -21730072576.0000\n",
      "Epoch 34/50\n",
      "\u001b[1m3/3\u001b[0m \u001b[32m━━━━━━━━━━━━━━━━━━━━\u001b[0m\u001b[37m\u001b[0m \u001b[1m2s\u001b[0m 1s/step - accuracy: 0.0273 - loss: -22680778752.0000 - val_accuracy: 0.0345 - val_loss: -23915333632.0000\n",
      "Epoch 35/50\n",
      "\u001b[1m3/3\u001b[0m \u001b[32m━━━━━━━━━━━━━━━━━━━━\u001b[0m\u001b[37m\u001b[0m \u001b[1m2s\u001b[0m 992ms/step - accuracy: 0.0391 - loss: -24163641344.0000 - val_accuracy: 0.0345 - val_loss: -26101870592.0000\n",
      "Epoch 36/50\n",
      "\u001b[1m3/3\u001b[0m \u001b[32m━━━━━━━━━━━━━━━━━━━━\u001b[0m\u001b[37m\u001b[0m \u001b[1m2s\u001b[0m 990ms/step - accuracy: 0.0312 - loss: -24581423104.0000 - val_accuracy: 0.0345 - val_loss: -28306546688.0000\n",
      "Epoch 37/50\n",
      "\u001b[1m3/3\u001b[0m \u001b[32m━━━━━━━━━━━━━━━━━━━━\u001b[0m\u001b[37m\u001b[0m \u001b[1m2s\u001b[0m 1s/step - accuracy: 0.0000e+00 - loss: -25698969600.0000 - val_accuracy: 0.0345 - val_loss: -30681673728.0000\n",
      "Epoch 38/50\n",
      "\u001b[1m3/3\u001b[0m \u001b[32m━━━━━━━━━━━━━━━━━━━━\u001b[0m\u001b[37m\u001b[0m \u001b[1m3s\u001b[0m 1s/step - accuracy: 0.0586 - loss: -31082117120.0000 - val_accuracy: 0.0345 - val_loss: -33363638272.0000\n",
      "Epoch 39/50\n",
      "\u001b[1m3/3\u001b[0m \u001b[32m━━━━━━━━━━━━━━━━━━━━\u001b[0m\u001b[37m\u001b[0m \u001b[1m4s\u001b[0m 2s/step - accuracy: 0.0312 - loss: -32962680832.0000 - val_accuracy: 0.0345 - val_loss: -36094369792.0000\n",
      "Epoch 40/50\n",
      "\u001b[1m3/3\u001b[0m \u001b[32m━━━━━━━━━━━━━━━━━━━━\u001b[0m\u001b[37m\u001b[0m \u001b[1m3s\u001b[0m 1s/step - accuracy: 0.0104 - loss: -33067012096.0000 - val_accuracy: 0.0345 - val_loss: -38966235136.0000\n",
      "Epoch 41/50\n",
      "\u001b[1m3/3\u001b[0m \u001b[32m━━━━━━━━━━━━━━━━━━━━\u001b[0m\u001b[37m\u001b[0m \u001b[1m3s\u001b[0m 1s/step - accuracy: 0.0247 - loss: -34981720064.0000 - val_accuracy: 0.0345 - val_loss: -41644802048.0000\n",
      "Epoch 42/50\n",
      "\u001b[1m3/3\u001b[0m \u001b[32m━━━━━━━━━━━━━━━━━━━━\u001b[0m\u001b[37m\u001b[0m \u001b[1m3s\u001b[0m 1s/step - accuracy: 0.0169 - loss: -42718560256.0000 - val_accuracy: 0.0345 - val_loss: -45225758720.0000\n",
      "Epoch 43/50\n",
      "\u001b[1m3/3\u001b[0m \u001b[32m━━━━━━━━━━━━━━━━━━━━\u001b[0m\u001b[37m\u001b[0m \u001b[1m3s\u001b[0m 1s/step - accuracy: 0.0430 - loss: -39322796032.0000 - val_accuracy: 0.0345 - val_loss: -48305377280.0000\n",
      "Epoch 44/50\n",
      "\u001b[1m3/3\u001b[0m \u001b[32m━━━━━━━━━━━━━━━━━━━━\u001b[0m\u001b[37m\u001b[0m \u001b[1m2s\u001b[0m 1s/step - accuracy: 0.0326 - loss: -47261024256.0000 - val_accuracy: 0.0345 - val_loss: -52054069248.0000\n",
      "Epoch 45/50\n",
      "\u001b[1m3/3\u001b[0m \u001b[32m━━━━━━━━━━━━━━━━━━━━\u001b[0m\u001b[37m\u001b[0m \u001b[1m3s\u001b[0m 1s/step - accuracy: 0.0443 - loss: -47801507840.0000 - val_accuracy: 0.0345 - val_loss: -55889575936.0000\n",
      "Epoch 46/50\n",
      "\u001b[1m3/3\u001b[0m \u001b[32m━━━━━━━━━━━━━━━━━━━━\u001b[0m\u001b[37m\u001b[0m \u001b[1m3s\u001b[0m 1s/step - accuracy: 0.0104 - loss: -65081286656.0000 - val_accuracy: 0.0345 - val_loss: -60353085440.0000\n",
      "Epoch 47/50\n",
      "\u001b[1m3/3\u001b[0m \u001b[32m━━━━━━━━━━━━━━━━━━━━\u001b[0m\u001b[37m\u001b[0m \u001b[1m2s\u001b[0m 1s/step - accuracy: 0.0430 - loss: -54069403648.0000 - val_accuracy: 0.0345 - val_loss: -64545722368.0000\n",
      "Epoch 48/50\n",
      "\u001b[1m3/3\u001b[0m \u001b[32m━━━━━━━━━━━━━━━━━━━━\u001b[0m\u001b[37m\u001b[0m \u001b[1m2s\u001b[0m 1s/step - accuracy: 0.0443 - loss: -63458676736.0000 - val_accuracy: 0.0345 - val_loss: -68854145024.0000\n",
      "Epoch 49/50\n",
      "\u001b[1m3/3\u001b[0m \u001b[32m━━━━━━━━━━━━━━━━━━━━\u001b[0m\u001b[37m\u001b[0m \u001b[1m3s\u001b[0m 1s/step - accuracy: 0.0156 - loss: -60648325120.0000 - val_accuracy: 0.0345 - val_loss: -73379987456.0000\n",
      "Epoch 50/50\n",
      "\u001b[1m3/3\u001b[0m \u001b[32m━━━━━━━━━━━━━━━━━━━━\u001b[0m\u001b[37m\u001b[0m \u001b[1m3s\u001b[0m 1s/step - accuracy: 0.0495 - loss: -64807227392.0000 - val_accuracy: 0.0345 - val_loss: -77991837696.0000\n"
     ]
    }
   ],
   "source": [
    "model_fit = model.fit(train_dataset,\n",
    "                      steps_per_epoch = 3,\n",
    "                      epochs = 50,\n",
    "                      validation_data = validation_dataset)"
   ]
  },
  {
   "cell_type": "code",
   "execution_count": null,
   "id": "ca70b647-2731-42ec-914d-820ce8cf00e8",
   "metadata": {},
   "outputs": [],
   "source": []
  },
  {
   "cell_type": "code",
   "execution_count": null,
   "id": "dd161f1c-5e84-4dd1-a627-e6f7dc8295d8",
   "metadata": {},
   "outputs": [],
   "source": []
  },
  {
   "cell_type": "code",
   "execution_count": null,
   "id": "38cf1857-a326-402a-a71f-432c07e502b5",
   "metadata": {},
   "outputs": [],
   "source": []
  }
 ],
 "metadata": {
  "kernelspec": {
   "display_name": "Python 3.10 (tensorflow)",
   "language": "python",
   "name": "tensorflow"
  },
  "language_info": {
   "codemirror_mode": {
    "name": "ipython",
    "version": 3
   },
   "file_extension": ".py",
   "mimetype": "text/x-python",
   "name": "python",
   "nbconvert_exporter": "python",
   "pygments_lexer": "ipython3",
   "version": "3.10.15"
  }
 },
 "nbformat": 4,
 "nbformat_minor": 5
}
